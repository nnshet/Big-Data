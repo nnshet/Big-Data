{
    "metadata": {
        "kernelspec": {
            "name": "python2-spark21", 
            "display_name": "Python 2 with Spark 2.1", 
            "language": "python"
        }, 
        "language_info": {
            "version": "2.7.11", 
            "name": "python", 
            "mimetype": "text/x-python", 
            "pygments_lexer": "ipython2", 
            "codemirror_mode": {
                "version": 2, 
                "name": "ipython"
            }, 
            "file_extension": ".py", 
            "nbconvert_exporter": "python"
        }
    }, 
    "cells": [
        {
            "metadata": {}, 
            "cell_type": "code", 
            "outputs": [
                {
                    "metadata": {}, 
                    "output_type": "execute_result", 
                    "execution_count": 5, 
                    "data": {
                        "text/plain": "[Row(PassengerId=u'1', Survived=u'0', Pclass=u'3', Name=u'Braund, Mr. Owen Harris', Sex=u'male', Age=u'22', SibSp=u'1', Parch=u'0', Ticket=u'A/5 21171', Fare=u'7.25', Cabin=None, Embarked=u'S'),\n Row(PassengerId=u'2', Survived=u'1', Pclass=u'1', Name=u'Cumings, Mrs. John Bradley (Florence Briggs Thayer)', Sex=u'female', Age=u'38', SibSp=u'1', Parch=u'0', Ticket=u'PC 17599', Fare=u'71.2833', Cabin=u'C85', Embarked=u'C'),\n Row(PassengerId=u'3', Survived=u'1', Pclass=u'3', Name=u'Heikkinen, Miss. Laina', Sex=u'female', Age=u'26', SibSp=u'0', Parch=u'0', Ticket=u'STON/O2. 3101282', Fare=u'7.925', Cabin=None, Embarked=u'S'),\n Row(PassengerId=u'4', Survived=u'1', Pclass=u'1', Name=u'Futrelle, Mrs. Jacques Heath (Lily May Peel)', Sex=u'female', Age=u'35', SibSp=u'1', Parch=u'0', Ticket=u'113803', Fare=u'53.1', Cabin=u'C123', Embarked=u'S'),\n Row(PassengerId=u'5', Survived=u'0', Pclass=u'3', Name=u'Allen, Mr. William Henry', Sex=u'male', Age=u'35', SibSp=u'0', Parch=u'0', Ticket=u'373450', Fare=u'8.05', Cabin=None, Embarked=u'S')]"
                    }
                }
            ], 
            "execution_count": 5, 
            "source": "# The code was removed by DSX for sharing."
        }, 
        {
            "metadata": {}, 
            "cell_type": "code", 
            "outputs": [
                {
                    "metadata": {}, 
                    "output_type": "execute_result", 
                    "execution_count": 6, 
                    "data": {
                        "text/plain": "891"
                    }
                }
            ], 
            "execution_count": 6, 
            "source": "trainingDF.count()"
        }, 
        {
            "metadata": {}, 
            "cell_type": "code", 
            "outputs": [], 
            "execution_count": 7, 
            "source": "import pandas as pd\ntrainingDF = (trainingDF.withColumn('Parch',trainingDF['Parch'].cast('double'))\n                        .withColumn('Survived',trainingDF['Survived'].cast('double'))\n                        .withColumn('SibSp',trainingDF['SibSp'].cast('double'))\n                        .withColumn('Age',trainingDF['Age'].cast('double'))\n                        .withColumn('Fare',trainingDF['Fare'].cast('double')))"
        }, 
        {
            "metadata": {}, 
            "cell_type": "code", 
            "outputs": [], 
            "execution_count": 11, 
            "source": "trainingDF = trainingDF.fillna({'Sex': 'Null', 'Ticket': 'Null','Age': trainingDF.groupBy().mean('Age').first()[0], 'Fare':trainingDF.groupBy().mean('Fare').first()[0], 'Survived':0, 'SibSp': 0, 'Parch': 0, 'Pclass': 'Null','Embarked': 'Null'})"
        }, 
        {
            "metadata": {
                "collapsed": true
            }, 
            "cell_type": "code", 
            "outputs": [], 
            "execution_count": 12, 
            "source": "trainingDF = trainingDF.drop('Cabin', 'PassengerId','Name')"
        }, 
        {
            "metadata": {
                "collapsed": true
            }, 
            "cell_type": "code", 
            "outputs": [], 
            "execution_count": 14, 
            "source": "trainingDF = trainingDF.dropna()"
        }, 
        {
            "metadata": {}, 
            "cell_type": "code", 
            "outputs": [
                {
                    "metadata": {}, 
                    "output_type": "execute_result", 
                    "execution_count": 15, 
                    "data": {
                        "text/plain": "891"
                    }
                }
            ], 
            "execution_count": 15, 
            "source": "trainingDF.count()"
        }, 
        {
            "metadata": {
                "collapsed": true
            }, 
            "cell_type": "code", 
            "outputs": [], 
            "execution_count": 16, 
            "source": "###One-Hot Encoding\nfrom pyspark.ml import Pipeline\nfrom pyspark.ml.feature import OneHotEncoder, StringIndexer, VectorAssembler\n\ncategoricalColumns = [\"Pclass\", \"Sex\", \"Ticket\", \"Embarked\"]\nstages = [] # stages in our Pipeline\nfor categoricalCol in categoricalColumns:\n  # Category Indexing with StringIndexer\n  stringIndexer = StringIndexer(inputCol=categoricalCol, outputCol=categoricalCol+\"Index\")\n  # Use OneHotEncoder to convert categorical variables into binary SparseVectors\n  encoder = OneHotEncoder(inputCol=categoricalCol+\"Index\", outputCol=categoricalCol+\"classVec\")\n  # Add stages.  These are not run here, but will run all at once later on.\n  stages += [stringIndexer,encoder]"
        }, 
        {
            "metadata": {
                "collapsed": true
            }, 
            "cell_type": "code", 
            "outputs": [], 
            "execution_count": 17, 
            "source": "# Convert label into label indices using the StringIndexer\nlabel_stringIdx = StringIndexer(inputCol = \"Survived\", outputCol = \"label\")\nstages += [label_stringIdx]"
        }, 
        {
            "metadata": {
                "collapsed": true
            }, 
            "cell_type": "code", 
            "outputs": [], 
            "execution_count": 18, 
            "source": "# Transform all features into a vector using VectorAssembler\nnumericCols = [\"Age\", \"SibSp\",\"Parch\", \"Fare\"]\nassemblerInputs = map(lambda c: c + \"classVec\", categoricalColumns) + numericCols\nassembler = VectorAssembler(inputCols=assemblerInputs, outputCol=\"features\")\nstages += [assembler]"
        }, 
        {
            "metadata": {}, 
            "cell_type": "code", 
            "outputs": [], 
            "execution_count": 20, 
            "source": "cols = trainingDF.columns\n# Create a Pipeline.\npipeline = Pipeline(stages=stages)\n# Run the feature transformations.\n#  - fit() computes feature statistics as needed.\n#  - transform() actually transforms the features.\npipelineModel = pipeline.fit(trainingDF)\ndataset = pipelineModel.transform(trainingDF)"
        }, 
        {
            "metadata": {}, 
            "cell_type": "code", 
            "outputs": [
                {
                    "metadata": {}, 
                    "output_type": "execute_result", 
                    "execution_count": 21, 
                    "data": {
                        "text/html": "<div>\n<table border=\"1\" class=\"dataframe\">\n  <thead>\n    <tr style=\"text-align: right;\">\n      <th></th>\n      <th>label</th>\n      <th>features</th>\n      <th>Survived</th>\n      <th>Pclass</th>\n      <th>Sex</th>\n      <th>Age</th>\n      <th>SibSp</th>\n      <th>Parch</th>\n      <th>Ticket</th>\n      <th>Fare</th>\n      <th>Embarked</th>\n    </tr>\n  </thead>\n  <tbody>\n    <tr>\n      <th>0</th>\n      <td>0</td>\n      <td>(1.0, 0.0, 1.0, 0.0, 0.0, 0.0, 0.0, 0.0, 0.0, ...</td>\n      <td>0</td>\n      <td>3</td>\n      <td>male</td>\n      <td>22.000000</td>\n      <td>1</td>\n      <td>0</td>\n      <td>A/5 21171</td>\n      <td>7.2500</td>\n      <td>S</td>\n    </tr>\n    <tr>\n      <th>1</th>\n      <td>1</td>\n      <td>(0.0, 1.0, 0.0, 0.0, 0.0, 0.0, 0.0, 0.0, 0.0, ...</td>\n      <td>1</td>\n      <td>1</td>\n      <td>female</td>\n      <td>38.000000</td>\n      <td>1</td>\n      <td>0</td>\n      <td>PC 17599</td>\n      <td>71.2833</td>\n      <td>C</td>\n    </tr>\n    <tr>\n      <th>2</th>\n      <td>1</td>\n      <td>(1.0, 0.0, 0.0, 0.0, 0.0, 0.0, 0.0, 0.0, 0.0, ...</td>\n      <td>1</td>\n      <td>3</td>\n      <td>female</td>\n      <td>26.000000</td>\n      <td>0</td>\n      <td>0</td>\n      <td>STON/O2. 3101282</td>\n      <td>7.9250</td>\n      <td>S</td>\n    </tr>\n    <tr>\n      <th>3</th>\n      <td>1</td>\n      <td>(0.0, 1.0, 0.0, 0.0, 0.0, 0.0, 0.0, 0.0, 0.0, ...</td>\n      <td>1</td>\n      <td>1</td>\n      <td>female</td>\n      <td>35.000000</td>\n      <td>1</td>\n      <td>0</td>\n      <td>113803</td>\n      <td>53.1000</td>\n      <td>S</td>\n    </tr>\n    <tr>\n      <th>4</th>\n      <td>0</td>\n      <td>(1.0, 0.0, 1.0, 0.0, 0.0, 0.0, 0.0, 0.0, 0.0, ...</td>\n      <td>0</td>\n      <td>3</td>\n      <td>male</td>\n      <td>35.000000</td>\n      <td>0</td>\n      <td>0</td>\n      <td>373450</td>\n      <td>8.0500</td>\n      <td>S</td>\n    </tr>\n    <tr>\n      <th>5</th>\n      <td>0</td>\n      <td>(1.0, 0.0, 1.0, 0.0, 0.0, 0.0, 0.0, 0.0, 0.0, ...</td>\n      <td>0</td>\n      <td>3</td>\n      <td>male</td>\n      <td>29.699118</td>\n      <td>0</td>\n      <td>0</td>\n      <td>330877</td>\n      <td>8.4583</td>\n      <td>Q</td>\n    </tr>\n    <tr>\n      <th>6</th>\n      <td>0</td>\n      <td>(0.0, 1.0, 1.0, 0.0, 0.0, 0.0, 0.0, 0.0, 0.0, ...</td>\n      <td>0</td>\n      <td>1</td>\n      <td>male</td>\n      <td>54.000000</td>\n      <td>0</td>\n      <td>0</td>\n      <td>17463</td>\n      <td>51.8625</td>\n      <td>S</td>\n    </tr>\n    <tr>\n      <th>7</th>\n      <td>0</td>\n      <td>(1.0, 0.0, 1.0, 0.0, 0.0, 0.0, 0.0, 0.0, 0.0, ...</td>\n      <td>0</td>\n      <td>3</td>\n      <td>male</td>\n      <td>2.000000</td>\n      <td>3</td>\n      <td>1</td>\n      <td>349909</td>\n      <td>21.0750</td>\n      <td>S</td>\n    </tr>\n    <tr>\n      <th>8</th>\n      <td>1</td>\n      <td>(1.0, 0.0, 0.0, 0.0, 0.0, 0.0, 0.0, 0.0, 0.0, ...</td>\n      <td>1</td>\n      <td>3</td>\n      <td>female</td>\n      <td>27.000000</td>\n      <td>0</td>\n      <td>2</td>\n      <td>347742</td>\n      <td>11.1333</td>\n      <td>S</td>\n    </tr>\n    <tr>\n      <th>9</th>\n      <td>1</td>\n      <td>(0.0, 0.0, 0.0, 0.0, 0.0, 0.0, 0.0, 0.0, 0.0, ...</td>\n      <td>1</td>\n      <td>2</td>\n      <td>female</td>\n      <td>14.000000</td>\n      <td>1</td>\n      <td>0</td>\n      <td>237736</td>\n      <td>30.0708</td>\n      <td>C</td>\n    </tr>\n    <tr>\n      <th>10</th>\n      <td>1</td>\n      <td>(1.0, 0.0, 0.0, 0.0, 0.0, 0.0, 0.0, 0.0, 0.0, ...</td>\n      <td>1</td>\n      <td>3</td>\n      <td>female</td>\n      <td>4.000000</td>\n      <td>1</td>\n      <td>1</td>\n      <td>PP 9549</td>\n      <td>16.7000</td>\n      <td>S</td>\n    </tr>\n    <tr>\n      <th>11</th>\n      <td>1</td>\n      <td>(0.0, 1.0, 0.0, 0.0, 0.0, 0.0, 0.0, 0.0, 0.0, ...</td>\n      <td>1</td>\n      <td>1</td>\n      <td>female</td>\n      <td>58.000000</td>\n      <td>0</td>\n      <td>0</td>\n      <td>113783</td>\n      <td>26.5500</td>\n      <td>S</td>\n    </tr>\n    <tr>\n      <th>12</th>\n      <td>0</td>\n      <td>(1.0, 0.0, 1.0, 0.0, 0.0, 0.0, 0.0, 0.0, 0.0, ...</td>\n      <td>0</td>\n      <td>3</td>\n      <td>male</td>\n      <td>20.000000</td>\n      <td>0</td>\n      <td>0</td>\n      <td>A/5. 2151</td>\n      <td>8.0500</td>\n      <td>S</td>\n    </tr>\n    <tr>\n      <th>13</th>\n      <td>0</td>\n      <td>(1.0, 0.0, 1.0, 1.0, 0.0, 0.0, 0.0, 0.0, 0.0, ...</td>\n      <td>0</td>\n      <td>3</td>\n      <td>male</td>\n      <td>39.000000</td>\n      <td>1</td>\n      <td>5</td>\n      <td>347082</td>\n      <td>31.2750</td>\n      <td>S</td>\n    </tr>\n    <tr>\n      <th>14</th>\n      <td>0</td>\n      <td>(1.0, 0.0, 0.0, 0.0, 0.0, 0.0, 0.0, 0.0, 0.0, ...</td>\n      <td>0</td>\n      <td>3</td>\n      <td>female</td>\n      <td>14.000000</td>\n      <td>0</td>\n      <td>0</td>\n      <td>350406</td>\n      <td>7.8542</td>\n      <td>S</td>\n    </tr>\n    <tr>\n      <th>15</th>\n      <td>1</td>\n      <td>(0.0, 0.0, 0.0, 0.0, 0.0, 0.0, 0.0, 0.0, 0.0, ...</td>\n      <td>1</td>\n      <td>2</td>\n      <td>female</td>\n      <td>55.000000</td>\n      <td>0</td>\n      <td>0</td>\n      <td>248706</td>\n      <td>16.0000</td>\n      <td>S</td>\n    </tr>\n    <tr>\n      <th>16</th>\n      <td>0</td>\n      <td>(1.0, 0.0, 1.0, 0.0, 0.0, 0.0, 0.0, 0.0, 0.0, ...</td>\n      <td>0</td>\n      <td>3</td>\n      <td>male</td>\n      <td>2.000000</td>\n      <td>4</td>\n      <td>1</td>\n      <td>382652</td>\n      <td>29.1250</td>\n      <td>Q</td>\n    </tr>\n    <tr>\n      <th>17</th>\n      <td>1</td>\n      <td>(0.0, 0.0, 1.0, 0.0, 0.0, 0.0, 0.0, 0.0, 0.0, ...</td>\n      <td>1</td>\n      <td>2</td>\n      <td>male</td>\n      <td>29.699118</td>\n      <td>0</td>\n      <td>0</td>\n      <td>244373</td>\n      <td>13.0000</td>\n      <td>S</td>\n    </tr>\n    <tr>\n      <th>18</th>\n      <td>0</td>\n      <td>(1.0, 0.0, 0.0, 0.0, 0.0, 0.0, 0.0, 0.0, 0.0, ...</td>\n      <td>0</td>\n      <td>3</td>\n      <td>female</td>\n      <td>31.000000</td>\n      <td>1</td>\n      <td>0</td>\n      <td>345763</td>\n      <td>18.0000</td>\n      <td>S</td>\n    </tr>\n    <tr>\n      <th>19</th>\n      <td>1</td>\n      <td>(1.0, 0.0, 0.0, 0.0, 0.0, 0.0, 0.0, 0.0, 0.0, ...</td>\n      <td>1</td>\n      <td>3</td>\n      <td>female</td>\n      <td>29.699118</td>\n      <td>0</td>\n      <td>0</td>\n      <td>2649</td>\n      <td>7.2250</td>\n      <td>C</td>\n    </tr>\n    <tr>\n      <th>20</th>\n      <td>0</td>\n      <td>(0.0, 0.0, 1.0, 0.0, 0.0, 0.0, 0.0, 0.0, 0.0, ...</td>\n      <td>0</td>\n      <td>2</td>\n      <td>male</td>\n      <td>35.000000</td>\n      <td>0</td>\n      <td>0</td>\n      <td>239865</td>\n      <td>26.0000</td>\n      <td>S</td>\n    </tr>\n    <tr>\n      <th>21</th>\n      <td>1</td>\n      <td>(0.0, 0.0, 1.0, 0.0, 0.0, 0.0, 0.0, 0.0, 0.0, ...</td>\n      <td>1</td>\n      <td>2</td>\n      <td>male</td>\n      <td>34.000000</td>\n      <td>0</td>\n      <td>0</td>\n      <td>248698</td>\n      <td>13.0000</td>\n      <td>S</td>\n    </tr>\n    <tr>\n      <th>22</th>\n      <td>1</td>\n      <td>(1.0, 0.0, 0.0, 0.0, 0.0, 0.0, 0.0, 0.0, 0.0, ...</td>\n      <td>1</td>\n      <td>3</td>\n      <td>female</td>\n      <td>15.000000</td>\n      <td>0</td>\n      <td>0</td>\n      <td>330923</td>\n      <td>8.0292</td>\n      <td>Q</td>\n    </tr>\n    <tr>\n      <th>23</th>\n      <td>1</td>\n      <td>(0.0, 1.0, 1.0, 0.0, 0.0, 0.0, 0.0, 0.0, 0.0, ...</td>\n      <td>1</td>\n      <td>1</td>\n      <td>male</td>\n      <td>28.000000</td>\n      <td>0</td>\n      <td>0</td>\n      <td>113788</td>\n      <td>35.5000</td>\n      <td>S</td>\n    </tr>\n    <tr>\n      <th>24</th>\n      <td>0</td>\n      <td>(1.0, 0.0, 0.0, 0.0, 0.0, 0.0, 0.0, 0.0, 0.0, ...</td>\n      <td>0</td>\n      <td>3</td>\n      <td>female</td>\n      <td>8.000000</td>\n      <td>3</td>\n      <td>1</td>\n      <td>349909</td>\n      <td>21.0750</td>\n      <td>S</td>\n    </tr>\n    <tr>\n      <th>25</th>\n      <td>1</td>\n      <td>(1.0, 0.0, 0.0, 0.0, 0.0, 0.0, 0.0, 0.0, 0.0, ...</td>\n      <td>1</td>\n      <td>3</td>\n      <td>female</td>\n      <td>38.000000</td>\n      <td>1</td>\n      <td>5</td>\n      <td>347077</td>\n      <td>31.3875</td>\n      <td>S</td>\n    </tr>\n    <tr>\n      <th>26</th>\n      <td>0</td>\n      <td>(1.0, 0.0, 1.0, 0.0, 0.0, 0.0, 0.0, 0.0, 0.0, ...</td>\n      <td>0</td>\n      <td>3</td>\n      <td>male</td>\n      <td>29.699118</td>\n      <td>0</td>\n      <td>0</td>\n      <td>2631</td>\n      <td>7.2250</td>\n      <td>C</td>\n    </tr>\n    <tr>\n      <th>27</th>\n      <td>0</td>\n      <td>(0.0, 1.0, 1.0, 0.0, 0.0, 0.0, 0.0, 0.0, 0.0, ...</td>\n      <td>0</td>\n      <td>1</td>\n      <td>male</td>\n      <td>19.000000</td>\n      <td>3</td>\n      <td>2</td>\n      <td>19950</td>\n      <td>263.0000</td>\n      <td>S</td>\n    </tr>\n    <tr>\n      <th>28</th>\n      <td>1</td>\n      <td>(1.0, 0.0, 0.0, 0.0, 0.0, 0.0, 0.0, 0.0, 0.0, ...</td>\n      <td>1</td>\n      <td>3</td>\n      <td>female</td>\n      <td>29.699118</td>\n      <td>0</td>\n      <td>0</td>\n      <td>330959</td>\n      <td>7.8792</td>\n      <td>Q</td>\n    </tr>\n    <tr>\n      <th>29</th>\n      <td>0</td>\n      <td>(1.0, 0.0, 1.0, 0.0, 0.0, 0.0, 0.0, 0.0, 0.0, ...</td>\n      <td>0</td>\n      <td>3</td>\n      <td>male</td>\n      <td>29.699118</td>\n      <td>0</td>\n      <td>0</td>\n      <td>349216</td>\n      <td>7.8958</td>\n      <td>S</td>\n    </tr>\n    <tr>\n      <th>...</th>\n      <td>...</td>\n      <td>...</td>\n      <td>...</td>\n      <td>...</td>\n      <td>...</td>\n      <td>...</td>\n      <td>...</td>\n      <td>...</td>\n      <td>...</td>\n      <td>...</td>\n      <td>...</td>\n    </tr>\n    <tr>\n      <th>861</th>\n      <td>0</td>\n      <td>(0.0, 0.0, 1.0, 0.0, 0.0, 0.0, 0.0, 0.0, 0.0, ...</td>\n      <td>0</td>\n      <td>2</td>\n      <td>male</td>\n      <td>21.000000</td>\n      <td>1</td>\n      <td>0</td>\n      <td>28134</td>\n      <td>11.5000</td>\n      <td>S</td>\n    </tr>\n    <tr>\n      <th>862</th>\n      <td>1</td>\n      <td>(0.0, 1.0, 0.0, 0.0, 0.0, 0.0, 0.0, 0.0, 0.0, ...</td>\n      <td>1</td>\n      <td>1</td>\n      <td>female</td>\n      <td>48.000000</td>\n      <td>0</td>\n      <td>0</td>\n      <td>17466</td>\n      <td>25.9292</td>\n      <td>S</td>\n    </tr>\n    <tr>\n      <th>863</th>\n      <td>0</td>\n      <td>(1.0, 0.0, 0.0, 0.0, 1.0, 0.0, 0.0, 0.0, 0.0, ...</td>\n      <td>0</td>\n      <td>3</td>\n      <td>female</td>\n      <td>29.699118</td>\n      <td>8</td>\n      <td>2</td>\n      <td>CA. 2343</td>\n      <td>69.5500</td>\n      <td>S</td>\n    </tr>\n    <tr>\n      <th>864</th>\n      <td>0</td>\n      <td>(0.0, 0.0, 1.0, 0.0, 0.0, 0.0, 0.0, 0.0, 0.0, ...</td>\n      <td>0</td>\n      <td>2</td>\n      <td>male</td>\n      <td>24.000000</td>\n      <td>0</td>\n      <td>0</td>\n      <td>233866</td>\n      <td>13.0000</td>\n      <td>S</td>\n    </tr>\n    <tr>\n      <th>865</th>\n      <td>1</td>\n      <td>(0.0, 0.0, 0.0, 0.0, 0.0, 0.0, 0.0, 0.0, 0.0, ...</td>\n      <td>1</td>\n      <td>2</td>\n      <td>female</td>\n      <td>42.000000</td>\n      <td>0</td>\n      <td>0</td>\n      <td>236852</td>\n      <td>13.0000</td>\n      <td>S</td>\n    </tr>\n    <tr>\n      <th>866</th>\n      <td>1</td>\n      <td>(0.0, 0.0, 0.0, 0.0, 0.0, 0.0, 0.0, 0.0, 0.0, ...</td>\n      <td>1</td>\n      <td>2</td>\n      <td>female</td>\n      <td>27.000000</td>\n      <td>1</td>\n      <td>0</td>\n      <td>SC/PARIS 2149</td>\n      <td>13.8583</td>\n      <td>C</td>\n    </tr>\n    <tr>\n      <th>867</th>\n      <td>0</td>\n      <td>(0.0, 1.0, 1.0, 0.0, 0.0, 0.0, 0.0, 0.0, 0.0, ...</td>\n      <td>0</td>\n      <td>1</td>\n      <td>male</td>\n      <td>31.000000</td>\n      <td>0</td>\n      <td>0</td>\n      <td>PC 17590</td>\n      <td>50.4958</td>\n      <td>S</td>\n    </tr>\n    <tr>\n      <th>868</th>\n      <td>0</td>\n      <td>(1.0, 0.0, 1.0, 0.0, 0.0, 0.0, 0.0, 0.0, 0.0, ...</td>\n      <td>0</td>\n      <td>3</td>\n      <td>male</td>\n      <td>29.699118</td>\n      <td>0</td>\n      <td>0</td>\n      <td>345777</td>\n      <td>9.5000</td>\n      <td>S</td>\n    </tr>\n    <tr>\n      <th>869</th>\n      <td>1</td>\n      <td>(1.0, 0.0, 1.0, 0.0, 0.0, 0.0, 0.0, 0.0, 0.0, ...</td>\n      <td>1</td>\n      <td>3</td>\n      <td>male</td>\n      <td>4.000000</td>\n      <td>1</td>\n      <td>1</td>\n      <td>347742</td>\n      <td>11.1333</td>\n      <td>S</td>\n    </tr>\n    <tr>\n      <th>870</th>\n      <td>0</td>\n      <td>(1.0, 0.0, 1.0, 0.0, 0.0, 0.0, 0.0, 0.0, 0.0, ...</td>\n      <td>0</td>\n      <td>3</td>\n      <td>male</td>\n      <td>26.000000</td>\n      <td>0</td>\n      <td>0</td>\n      <td>349248</td>\n      <td>7.8958</td>\n      <td>S</td>\n    </tr>\n    <tr>\n      <th>871</th>\n      <td>1</td>\n      <td>(0.0, 1.0, 0.0, 0.0, 0.0, 0.0, 0.0, 0.0, 0.0, ...</td>\n      <td>1</td>\n      <td>1</td>\n      <td>female</td>\n      <td>47.000000</td>\n      <td>1</td>\n      <td>1</td>\n      <td>11751</td>\n      <td>52.5542</td>\n      <td>S</td>\n    </tr>\n    <tr>\n      <th>872</th>\n      <td>0</td>\n      <td>(0.0, 1.0, 1.0, 0.0, 0.0, 0.0, 0.0, 0.0, 0.0, ...</td>\n      <td>0</td>\n      <td>1</td>\n      <td>male</td>\n      <td>33.000000</td>\n      <td>0</td>\n      <td>0</td>\n      <td>695</td>\n      <td>5.0000</td>\n      <td>S</td>\n    </tr>\n    <tr>\n      <th>873</th>\n      <td>0</td>\n      <td>(1.0, 0.0, 1.0, 0.0, 0.0, 0.0, 0.0, 0.0, 0.0, ...</td>\n      <td>0</td>\n      <td>3</td>\n      <td>male</td>\n      <td>47.000000</td>\n      <td>0</td>\n      <td>0</td>\n      <td>345765</td>\n      <td>9.0000</td>\n      <td>S</td>\n    </tr>\n    <tr>\n      <th>874</th>\n      <td>1</td>\n      <td>(0.0, 0.0, 0.0, 0.0, 0.0, 0.0, 0.0, 0.0, 0.0, ...</td>\n      <td>1</td>\n      <td>2</td>\n      <td>female</td>\n      <td>28.000000</td>\n      <td>1</td>\n      <td>0</td>\n      <td>P/PP 3381</td>\n      <td>24.0000</td>\n      <td>C</td>\n    </tr>\n    <tr>\n      <th>875</th>\n      <td>1</td>\n      <td>(1.0, 0.0, 0.0, 0.0, 0.0, 0.0, 0.0, 0.0, 0.0, ...</td>\n      <td>1</td>\n      <td>3</td>\n      <td>female</td>\n      <td>15.000000</td>\n      <td>0</td>\n      <td>0</td>\n      <td>2667</td>\n      <td>7.2250</td>\n      <td>C</td>\n    </tr>\n    <tr>\n      <th>876</th>\n      <td>0</td>\n      <td>(1.0, 0.0, 1.0, 0.0, 0.0, 0.0, 0.0, 0.0, 0.0, ...</td>\n      <td>0</td>\n      <td>3</td>\n      <td>male</td>\n      <td>20.000000</td>\n      <td>0</td>\n      <td>0</td>\n      <td>7534</td>\n      <td>9.8458</td>\n      <td>S</td>\n    </tr>\n    <tr>\n      <th>877</th>\n      <td>0</td>\n      <td>(1.0, 0.0, 1.0, 0.0, 0.0, 0.0, 0.0, 0.0, 0.0, ...</td>\n      <td>0</td>\n      <td>3</td>\n      <td>male</td>\n      <td>19.000000</td>\n      <td>0</td>\n      <td>0</td>\n      <td>349212</td>\n      <td>7.8958</td>\n      <td>S</td>\n    </tr>\n    <tr>\n      <th>878</th>\n      <td>0</td>\n      <td>(1.0, 0.0, 1.0, 0.0, 0.0, 0.0, 0.0, 0.0, 0.0, ...</td>\n      <td>0</td>\n      <td>3</td>\n      <td>male</td>\n      <td>29.699118</td>\n      <td>0</td>\n      <td>0</td>\n      <td>349217</td>\n      <td>7.8958</td>\n      <td>S</td>\n    </tr>\n    <tr>\n      <th>879</th>\n      <td>1</td>\n      <td>(0.0, 1.0, 0.0, 0.0, 0.0, 0.0, 0.0, 0.0, 0.0, ...</td>\n      <td>1</td>\n      <td>1</td>\n      <td>female</td>\n      <td>56.000000</td>\n      <td>0</td>\n      <td>1</td>\n      <td>11767</td>\n      <td>83.1583</td>\n      <td>C</td>\n    </tr>\n    <tr>\n      <th>880</th>\n      <td>1</td>\n      <td>(0.0, 0.0, 0.0, 0.0, 0.0, 0.0, 0.0, 0.0, 0.0, ...</td>\n      <td>1</td>\n      <td>2</td>\n      <td>female</td>\n      <td>25.000000</td>\n      <td>0</td>\n      <td>1</td>\n      <td>230433</td>\n      <td>26.0000</td>\n      <td>S</td>\n    </tr>\n    <tr>\n      <th>881</th>\n      <td>0</td>\n      <td>(1.0, 0.0, 1.0, 0.0, 0.0, 0.0, 0.0, 0.0, 0.0, ...</td>\n      <td>0</td>\n      <td>3</td>\n      <td>male</td>\n      <td>33.000000</td>\n      <td>0</td>\n      <td>0</td>\n      <td>349257</td>\n      <td>7.8958</td>\n      <td>S</td>\n    </tr>\n    <tr>\n      <th>882</th>\n      <td>0</td>\n      <td>(1.0, 0.0, 0.0, 0.0, 0.0, 0.0, 0.0, 0.0, 0.0, ...</td>\n      <td>0</td>\n      <td>3</td>\n      <td>female</td>\n      <td>22.000000</td>\n      <td>0</td>\n      <td>0</td>\n      <td>7552</td>\n      <td>10.5167</td>\n      <td>S</td>\n    </tr>\n    <tr>\n      <th>883</th>\n      <td>0</td>\n      <td>(0.0, 0.0, 1.0, 0.0, 0.0, 0.0, 0.0, 0.0, 0.0, ...</td>\n      <td>0</td>\n      <td>2</td>\n      <td>male</td>\n      <td>28.000000</td>\n      <td>0</td>\n      <td>0</td>\n      <td>C.A./SOTON 34068</td>\n      <td>10.5000</td>\n      <td>S</td>\n    </tr>\n    <tr>\n      <th>884</th>\n      <td>0</td>\n      <td>(1.0, 0.0, 1.0, 0.0, 0.0, 0.0, 0.0, 0.0, 0.0, ...</td>\n      <td>0</td>\n      <td>3</td>\n      <td>male</td>\n      <td>25.000000</td>\n      <td>0</td>\n      <td>0</td>\n      <td>SOTON/OQ 392076</td>\n      <td>7.0500</td>\n      <td>S</td>\n    </tr>\n    <tr>\n      <th>885</th>\n      <td>0</td>\n      <td>(1.0, 0.0, 0.0, 0.0, 0.0, 0.0, 0.0, 0.0, 0.0, ...</td>\n      <td>0</td>\n      <td>3</td>\n      <td>female</td>\n      <td>39.000000</td>\n      <td>0</td>\n      <td>5</td>\n      <td>382652</td>\n      <td>29.1250</td>\n      <td>Q</td>\n    </tr>\n    <tr>\n      <th>886</th>\n      <td>0</td>\n      <td>(0.0, 0.0, 1.0, 0.0, 0.0, 0.0, 0.0, 0.0, 0.0, ...</td>\n      <td>0</td>\n      <td>2</td>\n      <td>male</td>\n      <td>27.000000</td>\n      <td>0</td>\n      <td>0</td>\n      <td>211536</td>\n      <td>13.0000</td>\n      <td>S</td>\n    </tr>\n    <tr>\n      <th>887</th>\n      <td>1</td>\n      <td>(0.0, 1.0, 0.0, 0.0, 0.0, 0.0, 0.0, 0.0, 0.0, ...</td>\n      <td>1</td>\n      <td>1</td>\n      <td>female</td>\n      <td>19.000000</td>\n      <td>0</td>\n      <td>0</td>\n      <td>112053</td>\n      <td>30.0000</td>\n      <td>S</td>\n    </tr>\n    <tr>\n      <th>888</th>\n      <td>0</td>\n      <td>(1.0, 0.0, 0.0, 0.0, 0.0, 0.0, 0.0, 0.0, 0.0, ...</td>\n      <td>0</td>\n      <td>3</td>\n      <td>female</td>\n      <td>29.699118</td>\n      <td>1</td>\n      <td>2</td>\n      <td>W./C. 6607</td>\n      <td>23.4500</td>\n      <td>S</td>\n    </tr>\n    <tr>\n      <th>889</th>\n      <td>1</td>\n      <td>(0.0, 1.0, 1.0, 0.0, 0.0, 0.0, 0.0, 0.0, 0.0, ...</td>\n      <td>1</td>\n      <td>1</td>\n      <td>male</td>\n      <td>26.000000</td>\n      <td>0</td>\n      <td>0</td>\n      <td>111369</td>\n      <td>30.0000</td>\n      <td>C</td>\n    </tr>\n    <tr>\n      <th>890</th>\n      <td>0</td>\n      <td>(1.0, 0.0, 1.0, 0.0, 0.0, 0.0, 0.0, 0.0, 0.0, ...</td>\n      <td>0</td>\n      <td>3</td>\n      <td>male</td>\n      <td>32.000000</td>\n      <td>0</td>\n      <td>0</td>\n      <td>370376</td>\n      <td>7.7500</td>\n      <td>Q</td>\n    </tr>\n  </tbody>\n</table>\n<p>891 rows \u00d7 11 columns</p>\n</div>", 
                        "text/plain": "     label                                           features  Survived  \\\n0        0  (1.0, 0.0, 1.0, 0.0, 0.0, 0.0, 0.0, 0.0, 0.0, ...         0   \n1        1  (0.0, 1.0, 0.0, 0.0, 0.0, 0.0, 0.0, 0.0, 0.0, ...         1   \n2        1  (1.0, 0.0, 0.0, 0.0, 0.0, 0.0, 0.0, 0.0, 0.0, ...         1   \n3        1  (0.0, 1.0, 0.0, 0.0, 0.0, 0.0, 0.0, 0.0, 0.0, ...         1   \n4        0  (1.0, 0.0, 1.0, 0.0, 0.0, 0.0, 0.0, 0.0, 0.0, ...         0   \n5        0  (1.0, 0.0, 1.0, 0.0, 0.0, 0.0, 0.0, 0.0, 0.0, ...         0   \n6        0  (0.0, 1.0, 1.0, 0.0, 0.0, 0.0, 0.0, 0.0, 0.0, ...         0   \n7        0  (1.0, 0.0, 1.0, 0.0, 0.0, 0.0, 0.0, 0.0, 0.0, ...         0   \n8        1  (1.0, 0.0, 0.0, 0.0, 0.0, 0.0, 0.0, 0.0, 0.0, ...         1   \n9        1  (0.0, 0.0, 0.0, 0.0, 0.0, 0.0, 0.0, 0.0, 0.0, ...         1   \n10       1  (1.0, 0.0, 0.0, 0.0, 0.0, 0.0, 0.0, 0.0, 0.0, ...         1   \n11       1  (0.0, 1.0, 0.0, 0.0, 0.0, 0.0, 0.0, 0.0, 0.0, ...         1   \n12       0  (1.0, 0.0, 1.0, 0.0, 0.0, 0.0, 0.0, 0.0, 0.0, ...         0   \n13       0  (1.0, 0.0, 1.0, 1.0, 0.0, 0.0, 0.0, 0.0, 0.0, ...         0   \n14       0  (1.0, 0.0, 0.0, 0.0, 0.0, 0.0, 0.0, 0.0, 0.0, ...         0   \n15       1  (0.0, 0.0, 0.0, 0.0, 0.0, 0.0, 0.0, 0.0, 0.0, ...         1   \n16       0  (1.0, 0.0, 1.0, 0.0, 0.0, 0.0, 0.0, 0.0, 0.0, ...         0   \n17       1  (0.0, 0.0, 1.0, 0.0, 0.0, 0.0, 0.0, 0.0, 0.0, ...         1   \n18       0  (1.0, 0.0, 0.0, 0.0, 0.0, 0.0, 0.0, 0.0, 0.0, ...         0   \n19       1  (1.0, 0.0, 0.0, 0.0, 0.0, 0.0, 0.0, 0.0, 0.0, ...         1   \n20       0  (0.0, 0.0, 1.0, 0.0, 0.0, 0.0, 0.0, 0.0, 0.0, ...         0   \n21       1  (0.0, 0.0, 1.0, 0.0, 0.0, 0.0, 0.0, 0.0, 0.0, ...         1   \n22       1  (1.0, 0.0, 0.0, 0.0, 0.0, 0.0, 0.0, 0.0, 0.0, ...         1   \n23       1  (0.0, 1.0, 1.0, 0.0, 0.0, 0.0, 0.0, 0.0, 0.0, ...         1   \n24       0  (1.0, 0.0, 0.0, 0.0, 0.0, 0.0, 0.0, 0.0, 0.0, ...         0   \n25       1  (1.0, 0.0, 0.0, 0.0, 0.0, 0.0, 0.0, 0.0, 0.0, ...         1   \n26       0  (1.0, 0.0, 1.0, 0.0, 0.0, 0.0, 0.0, 0.0, 0.0, ...         0   \n27       0  (0.0, 1.0, 1.0, 0.0, 0.0, 0.0, 0.0, 0.0, 0.0, ...         0   \n28       1  (1.0, 0.0, 0.0, 0.0, 0.0, 0.0, 0.0, 0.0, 0.0, ...         1   \n29       0  (1.0, 0.0, 1.0, 0.0, 0.0, 0.0, 0.0, 0.0, 0.0, ...         0   \n..     ...                                                ...       ...   \n861      0  (0.0, 0.0, 1.0, 0.0, 0.0, 0.0, 0.0, 0.0, 0.0, ...         0   \n862      1  (0.0, 1.0, 0.0, 0.0, 0.0, 0.0, 0.0, 0.0, 0.0, ...         1   \n863      0  (1.0, 0.0, 0.0, 0.0, 1.0, 0.0, 0.0, 0.0, 0.0, ...         0   \n864      0  (0.0, 0.0, 1.0, 0.0, 0.0, 0.0, 0.0, 0.0, 0.0, ...         0   \n865      1  (0.0, 0.0, 0.0, 0.0, 0.0, 0.0, 0.0, 0.0, 0.0, ...         1   \n866      1  (0.0, 0.0, 0.0, 0.0, 0.0, 0.0, 0.0, 0.0, 0.0, ...         1   \n867      0  (0.0, 1.0, 1.0, 0.0, 0.0, 0.0, 0.0, 0.0, 0.0, ...         0   \n868      0  (1.0, 0.0, 1.0, 0.0, 0.0, 0.0, 0.0, 0.0, 0.0, ...         0   \n869      1  (1.0, 0.0, 1.0, 0.0, 0.0, 0.0, 0.0, 0.0, 0.0, ...         1   \n870      0  (1.0, 0.0, 1.0, 0.0, 0.0, 0.0, 0.0, 0.0, 0.0, ...         0   \n871      1  (0.0, 1.0, 0.0, 0.0, 0.0, 0.0, 0.0, 0.0, 0.0, ...         1   \n872      0  (0.0, 1.0, 1.0, 0.0, 0.0, 0.0, 0.0, 0.0, 0.0, ...         0   \n873      0  (1.0, 0.0, 1.0, 0.0, 0.0, 0.0, 0.0, 0.0, 0.0, ...         0   \n874      1  (0.0, 0.0, 0.0, 0.0, 0.0, 0.0, 0.0, 0.0, 0.0, ...         1   \n875      1  (1.0, 0.0, 0.0, 0.0, 0.0, 0.0, 0.0, 0.0, 0.0, ...         1   \n876      0  (1.0, 0.0, 1.0, 0.0, 0.0, 0.0, 0.0, 0.0, 0.0, ...         0   \n877      0  (1.0, 0.0, 1.0, 0.0, 0.0, 0.0, 0.0, 0.0, 0.0, ...         0   \n878      0  (1.0, 0.0, 1.0, 0.0, 0.0, 0.0, 0.0, 0.0, 0.0, ...         0   \n879      1  (0.0, 1.0, 0.0, 0.0, 0.0, 0.0, 0.0, 0.0, 0.0, ...         1   \n880      1  (0.0, 0.0, 0.0, 0.0, 0.0, 0.0, 0.0, 0.0, 0.0, ...         1   \n881      0  (1.0, 0.0, 1.0, 0.0, 0.0, 0.0, 0.0, 0.0, 0.0, ...         0   \n882      0  (1.0, 0.0, 0.0, 0.0, 0.0, 0.0, 0.0, 0.0, 0.0, ...         0   \n883      0  (0.0, 0.0, 1.0, 0.0, 0.0, 0.0, 0.0, 0.0, 0.0, ...         0   \n884      0  (1.0, 0.0, 1.0, 0.0, 0.0, 0.0, 0.0, 0.0, 0.0, ...         0   \n885      0  (1.0, 0.0, 0.0, 0.0, 0.0, 0.0, 0.0, 0.0, 0.0, ...         0   \n886      0  (0.0, 0.0, 1.0, 0.0, 0.0, 0.0, 0.0, 0.0, 0.0, ...         0   \n887      1  (0.0, 1.0, 0.0, 0.0, 0.0, 0.0, 0.0, 0.0, 0.0, ...         1   \n888      0  (1.0, 0.0, 0.0, 0.0, 0.0, 0.0, 0.0, 0.0, 0.0, ...         0   \n889      1  (0.0, 1.0, 1.0, 0.0, 0.0, 0.0, 0.0, 0.0, 0.0, ...         1   \n890      0  (1.0, 0.0, 1.0, 0.0, 0.0, 0.0, 0.0, 0.0, 0.0, ...         0   \n\n    Pclass     Sex        Age  SibSp  Parch            Ticket      Fare  \\\n0        3    male  22.000000      1      0         A/5 21171    7.2500   \n1        1  female  38.000000      1      0          PC 17599   71.2833   \n2        3  female  26.000000      0      0  STON/O2. 3101282    7.9250   \n3        1  female  35.000000      1      0            113803   53.1000   \n4        3    male  35.000000      0      0            373450    8.0500   \n5        3    male  29.699118      0      0            330877    8.4583   \n6        1    male  54.000000      0      0             17463   51.8625   \n7        3    male   2.000000      3      1            349909   21.0750   \n8        3  female  27.000000      0      2            347742   11.1333   \n9        2  female  14.000000      1      0            237736   30.0708   \n10       3  female   4.000000      1      1           PP 9549   16.7000   \n11       1  female  58.000000      0      0            113783   26.5500   \n12       3    male  20.000000      0      0         A/5. 2151    8.0500   \n13       3    male  39.000000      1      5            347082   31.2750   \n14       3  female  14.000000      0      0            350406    7.8542   \n15       2  female  55.000000      0      0            248706   16.0000   \n16       3    male   2.000000      4      1            382652   29.1250   \n17       2    male  29.699118      0      0            244373   13.0000   \n18       3  female  31.000000      1      0            345763   18.0000   \n19       3  female  29.699118      0      0              2649    7.2250   \n20       2    male  35.000000      0      0            239865   26.0000   \n21       2    male  34.000000      0      0            248698   13.0000   \n22       3  female  15.000000      0      0            330923    8.0292   \n23       1    male  28.000000      0      0            113788   35.5000   \n24       3  female   8.000000      3      1            349909   21.0750   \n25       3  female  38.000000      1      5            347077   31.3875   \n26       3    male  29.699118      0      0              2631    7.2250   \n27       1    male  19.000000      3      2             19950  263.0000   \n28       3  female  29.699118      0      0            330959    7.8792   \n29       3    male  29.699118      0      0            349216    7.8958   \n..     ...     ...        ...    ...    ...               ...       ...   \n861      2    male  21.000000      1      0             28134   11.5000   \n862      1  female  48.000000      0      0             17466   25.9292   \n863      3  female  29.699118      8      2          CA. 2343   69.5500   \n864      2    male  24.000000      0      0            233866   13.0000   \n865      2  female  42.000000      0      0            236852   13.0000   \n866      2  female  27.000000      1      0     SC/PARIS 2149   13.8583   \n867      1    male  31.000000      0      0          PC 17590   50.4958   \n868      3    male  29.699118      0      0            345777    9.5000   \n869      3    male   4.000000      1      1            347742   11.1333   \n870      3    male  26.000000      0      0            349248    7.8958   \n871      1  female  47.000000      1      1             11751   52.5542   \n872      1    male  33.000000      0      0               695    5.0000   \n873      3    male  47.000000      0      0            345765    9.0000   \n874      2  female  28.000000      1      0         P/PP 3381   24.0000   \n875      3  female  15.000000      0      0              2667    7.2250   \n876      3    male  20.000000      0      0              7534    9.8458   \n877      3    male  19.000000      0      0            349212    7.8958   \n878      3    male  29.699118      0      0            349217    7.8958   \n879      1  female  56.000000      0      1             11767   83.1583   \n880      2  female  25.000000      0      1            230433   26.0000   \n881      3    male  33.000000      0      0            349257    7.8958   \n882      3  female  22.000000      0      0              7552   10.5167   \n883      2    male  28.000000      0      0  C.A./SOTON 34068   10.5000   \n884      3    male  25.000000      0      0   SOTON/OQ 392076    7.0500   \n885      3  female  39.000000      0      5            382652   29.1250   \n886      2    male  27.000000      0      0            211536   13.0000   \n887      1  female  19.000000      0      0            112053   30.0000   \n888      3  female  29.699118      1      2        W./C. 6607   23.4500   \n889      1    male  26.000000      0      0            111369   30.0000   \n890      3    male  32.000000      0      0            370376    7.7500   \n\n    Embarked  \n0          S  \n1          C  \n2          S  \n3          S  \n4          S  \n5          Q  \n6          S  \n7          S  \n8          S  \n9          C  \n10         S  \n11         S  \n12         S  \n13         S  \n14         S  \n15         S  \n16         Q  \n17         S  \n18         S  \n19         C  \n20         S  \n21         S  \n22         Q  \n23         S  \n24         S  \n25         S  \n26         C  \n27         S  \n28         Q  \n29         S  \n..       ...  \n861        S  \n862        S  \n863        S  \n864        S  \n865        S  \n866        C  \n867        S  \n868        S  \n869        S  \n870        S  \n871        S  \n872        S  \n873        S  \n874        C  \n875        C  \n876        S  \n877        S  \n878        S  \n879        C  \n880        S  \n881        S  \n882        S  \n883        S  \n884        S  \n885        Q  \n886        S  \n887        S  \n888        S  \n889        C  \n890        Q  \n\n[891 rows x 11 columns]"
                    }
                }
            ], 
            "execution_count": 21, 
            "source": "# Keep relevant columns\nselectedcols = [\"label\", \"features\"] + cols\ndataset = dataset.select(selectedcols)\ndataset.toPandas()"
        }, 
        {
            "metadata": {
                "collapsed": true
            }, 
            "cell_type": "code", 
            "outputs": [], 
            "execution_count": 22, 
            "source": "### Randomly split data into training and test sets. set seed for reproducibility\n(trainingData, testData) = dataset.randomSplit([0.75, 0.25], seed = 100)"
        }, 
        {
            "metadata": {}, 
            "cell_type": "code", 
            "outputs": [
                {
                    "text": "657\n234\n", 
                    "output_type": "stream", 
                    "name": "stdout"
                }
            ], 
            "execution_count": 24, 
            "source": "print trainingData.count()\nprint testData.count()"
        }, 
        {
            "metadata": {}, 
            "cell_type": "code", 
            "outputs": [
                {
                    "text": "root\n |-- label: double (nullable = true)\n |-- features: vector (nullable = true)\n |-- Survived: double (nullable = false)\n |-- Pclass: string (nullable = false)\n |-- Sex: string (nullable = false)\n |-- Age: double (nullable = false)\n |-- SibSp: double (nullable = false)\n |-- Parch: double (nullable = false)\n |-- Ticket: string (nullable = false)\n |-- Fare: double (nullable = false)\n |-- Embarked: string (nullable = false)\n |-- rawPrediction: vector (nullable = true)\n |-- probability: vector (nullable = true)\n |-- prediction: double (nullable = true)\n\n", 
                    "output_type": "stream", 
                    "name": "stdout"
                }, 
                {
                    "metadata": {}, 
                    "output_type": "execute_result", 
                    "execution_count": 25, 
                    "data": {
                        "text/html": "<div>\n<table border=\"1\" class=\"dataframe\">\n  <thead>\n    <tr style=\"text-align: right;\">\n      <th></th>\n      <th>label</th>\n      <th>prediction</th>\n      <th>probability</th>\n      <th>Age</th>\n      <th>Sex</th>\n    </tr>\n  </thead>\n  <tbody>\n    <tr>\n      <th>0</th>\n      <td>0</td>\n      <td>0</td>\n      <td>[0.999981670013, 1.83299867073e-05]</td>\n      <td>29.699118</td>\n      <td>male</td>\n    </tr>\n    <tr>\n      <th>1</th>\n      <td>0</td>\n      <td>1</td>\n      <td>[0.229418030563, 0.770581969437]</td>\n      <td>29.699118</td>\n      <td>male</td>\n    </tr>\n    <tr>\n      <th>2</th>\n      <td>0</td>\n      <td>0</td>\n      <td>[0.999975785539, 2.42144611247e-05]</td>\n      <td>1.000000</td>\n      <td>male</td>\n    </tr>\n    <tr>\n      <th>3</th>\n      <td>0</td>\n      <td>0</td>\n      <td>[0.999976528511, 2.34714889607e-05]</td>\n      <td>2.000000</td>\n      <td>male</td>\n    </tr>\n    <tr>\n      <th>4</th>\n      <td>0</td>\n      <td>0</td>\n      <td>[0.99999775835, 2.24164952953e-06]</td>\n      <td>40.000000</td>\n      <td>male</td>\n    </tr>\n    <tr>\n      <th>5</th>\n      <td>0</td>\n      <td>0</td>\n      <td>[0.999978494472, 2.15055277639e-05]</td>\n      <td>11.000000</td>\n      <td>male</td>\n    </tr>\n    <tr>\n      <th>6</th>\n      <td>0</td>\n      <td>0</td>\n      <td>[0.999980413923, 1.9586077438e-05]</td>\n      <td>14.000000</td>\n      <td>male</td>\n    </tr>\n    <tr>\n      <th>7</th>\n      <td>0</td>\n      <td>0</td>\n      <td>[0.999980710159, 1.92898414733e-05]</td>\n      <td>4.000000</td>\n      <td>male</td>\n    </tr>\n    <tr>\n      <th>8</th>\n      <td>0</td>\n      <td>0</td>\n      <td>[0.725264179845, 0.274735820155]</td>\n      <td>36.000000</td>\n      <td>male</td>\n    </tr>\n    <tr>\n      <th>9</th>\n      <td>0</td>\n      <td>0</td>\n      <td>[0.798325613086, 0.201674386914]</td>\n      <td>49.000000</td>\n      <td>male</td>\n    </tr>\n    <tr>\n      <th>10</th>\n      <td>0</td>\n      <td>0</td>\n      <td>[0.999998277013, 1.72298658947e-06]</td>\n      <td>36.000000</td>\n      <td>male</td>\n    </tr>\n    <tr>\n      <th>11</th>\n      <td>0</td>\n      <td>0</td>\n      <td>[0.999040192165, 0.00095980783488]</td>\n      <td>29.699118</td>\n      <td>male</td>\n    </tr>\n    <tr>\n      <th>12</th>\n      <td>0</td>\n      <td>0</td>\n      <td>[0.999997818676, 2.18132361352e-06]</td>\n      <td>18.000000</td>\n      <td>male</td>\n    </tr>\n    <tr>\n      <th>13</th>\n      <td>0</td>\n      <td>1</td>\n      <td>[0.135997907469, 0.864002092531]</td>\n      <td>27.000000</td>\n      <td>male</td>\n    </tr>\n    <tr>\n      <th>14</th>\n      <td>0</td>\n      <td>1</td>\n      <td>[0.0927872358154, 0.907212764185]</td>\n      <td>28.000000</td>\n      <td>male</td>\n    </tr>\n    <tr>\n      <th>15</th>\n      <td>0</td>\n      <td>0</td>\n      <td>[0.998450316214, 0.00154968378592]</td>\n      <td>29.699118</td>\n      <td>male</td>\n    </tr>\n    <tr>\n      <th>16</th>\n      <td>0</td>\n      <td>0</td>\n      <td>[0.999036335547, 0.000963664453408]</td>\n      <td>28.000000</td>\n      <td>male</td>\n    </tr>\n    <tr>\n      <th>17</th>\n      <td>0</td>\n      <td>0</td>\n      <td>[0.998933533068, 0.00106646693158]</td>\n      <td>21.000000</td>\n      <td>male</td>\n    </tr>\n    <tr>\n      <th>18</th>\n      <td>0</td>\n      <td>0</td>\n      <td>[0.998974045287, 0.00102595471273]</td>\n      <td>22.000000</td>\n      <td>male</td>\n    </tr>\n    <tr>\n      <th>19</th>\n      <td>0</td>\n      <td>0</td>\n      <td>[0.998975494169, 0.00102450583108]</td>\n      <td>22.000000</td>\n      <td>male</td>\n    </tr>\n    <tr>\n      <th>20</th>\n      <td>0</td>\n      <td>0</td>\n      <td>[0.99860083746, 0.00139916253953]</td>\n      <td>29.699118</td>\n      <td>male</td>\n    </tr>\n    <tr>\n      <th>21</th>\n      <td>0</td>\n      <td>0</td>\n      <td>[0.999395488686, 0.000604511314336]</td>\n      <td>39.000000</td>\n      <td>male</td>\n    </tr>\n    <tr>\n      <th>22</th>\n      <td>0</td>\n      <td>0</td>\n      <td>[0.999192728507, 0.000807271492886]</td>\n      <td>29.699118</td>\n      <td>male</td>\n    </tr>\n    <tr>\n      <th>23</th>\n      <td>0</td>\n      <td>0</td>\n      <td>[0.999443643732, 0.000556356267991]</td>\n      <td>42.000000</td>\n      <td>male</td>\n    </tr>\n    <tr>\n      <th>24</th>\n      <td>0</td>\n      <td>0</td>\n      <td>[0.999797254957, 0.000202745042785]</td>\n      <td>74.000000</td>\n      <td>male</td>\n    </tr>\n    <tr>\n      <th>25</th>\n      <td>0</td>\n      <td>0</td>\n      <td>[0.999174213934, 0.000825786065909]</td>\n      <td>29.699118</td>\n      <td>male</td>\n    </tr>\n    <tr>\n      <th>26</th>\n      <td>0</td>\n      <td>0</td>\n      <td>[0.999175204261, 0.000824795738628]</td>\n      <td>29.000000</td>\n      <td>male</td>\n    </tr>\n    <tr>\n      <th>27</th>\n      <td>0</td>\n      <td>0</td>\n      <td>[0.99920232256, 0.000797677439543]</td>\n      <td>29.699118</td>\n      <td>male</td>\n    </tr>\n    <tr>\n      <th>28</th>\n      <td>0</td>\n      <td>0</td>\n      <td>[0.9988142436, 0.0011857564]</td>\n      <td>17.000000</td>\n      <td>male</td>\n    </tr>\n    <tr>\n      <th>29</th>\n      <td>0</td>\n      <td>0</td>\n      <td>[0.999190967004, 0.000809032995581]</td>\n      <td>29.699118</td>\n      <td>male</td>\n    </tr>\n    <tr>\n      <th>...</th>\n      <td>...</td>\n      <td>...</td>\n      <td>...</td>\n      <td>...</td>\n      <td>...</td>\n    </tr>\n    <tr>\n      <th>204</th>\n      <td>1</td>\n      <td>1</td>\n      <td>[3.77660922293e-05, 0.999962233908]</td>\n      <td>21.000000</td>\n      <td>female</td>\n    </tr>\n    <tr>\n      <th>205</th>\n      <td>1</td>\n      <td>1</td>\n      <td>[0.0129622966769, 0.987037703323]</td>\n      <td>29.699118</td>\n      <td>female</td>\n    </tr>\n    <tr>\n      <th>206</th>\n      <td>1</td>\n      <td>1</td>\n      <td>[0.032648963167, 0.967351036833]</td>\n      <td>58.000000</td>\n      <td>female</td>\n    </tr>\n    <tr>\n      <th>207</th>\n      <td>1</td>\n      <td>0</td>\n      <td>[0.965624244831, 0.0343757551694]</td>\n      <td>22.000000</td>\n      <td>female</td>\n    </tr>\n    <tr>\n      <th>208</th>\n      <td>1</td>\n      <td>1</td>\n      <td>[0.000320181725622, 0.999679818274]</td>\n      <td>29.699118</td>\n      <td>female</td>\n    </tr>\n    <tr>\n      <th>209</th>\n      <td>1</td>\n      <td>1</td>\n      <td>[0.000221024077351, 0.999778975923]</td>\n      <td>24.000000</td>\n      <td>female</td>\n    </tr>\n    <tr>\n      <th>210</th>\n      <td>1</td>\n      <td>0</td>\n      <td>[0.974852521711, 0.0251474782894]</td>\n      <td>26.000000</td>\n      <td>female</td>\n    </tr>\n    <tr>\n      <th>211</th>\n      <td>1</td>\n      <td>0</td>\n      <td>[0.981267142228, 0.0187328577723]</td>\n      <td>33.000000</td>\n      <td>female</td>\n    </tr>\n    <tr>\n      <th>212</th>\n      <td>1</td>\n      <td>1</td>\n      <td>[0.192420325622, 0.807579674378]</td>\n      <td>48.000000</td>\n      <td>female</td>\n    </tr>\n    <tr>\n      <th>213</th>\n      <td>1</td>\n      <td>1</td>\n      <td>[0.0847023442739, 0.915297655726]</td>\n      <td>60.000000</td>\n      <td>female</td>\n    </tr>\n    <tr>\n      <th>214</th>\n      <td>1</td>\n      <td>1</td>\n      <td>[0.0712391167492, 0.928760883251]</td>\n      <td>16.000000</td>\n      <td>female</td>\n    </tr>\n    <tr>\n      <th>215</th>\n      <td>1</td>\n      <td>1</td>\n      <td>[0.104854419791, 0.895145580209]</td>\n      <td>44.000000</td>\n      <td>female</td>\n    </tr>\n    <tr>\n      <th>216</th>\n      <td>1</td>\n      <td>1</td>\n      <td>[0.0469938313685, 0.953006168631]</td>\n      <td>38.000000</td>\n      <td>female</td>\n    </tr>\n    <tr>\n      <th>217</th>\n      <td>1</td>\n      <td>1</td>\n      <td>[0.0434360911558, 0.956563908844]</td>\n      <td>39.000000</td>\n      <td>female</td>\n    </tr>\n    <tr>\n      <th>218</th>\n      <td>1</td>\n      <td>1</td>\n      <td>[0.00112839777253, 0.998871602227]</td>\n      <td>0.830000</td>\n      <td>male</td>\n    </tr>\n    <tr>\n      <th>219</th>\n      <td>1</td>\n      <td>0</td>\n      <td>[0.999844046529, 0.000155953470962]</td>\n      <td>8.000000</td>\n      <td>male</td>\n    </tr>\n    <tr>\n      <th>220</th>\n      <td>1</td>\n      <td>0</td>\n      <td>[0.996750285367, 0.00324971463312]</td>\n      <td>34.000000</td>\n      <td>male</td>\n    </tr>\n    <tr>\n      <th>221</th>\n      <td>1</td>\n      <td>1</td>\n      <td>[9.98340549762e-06, 0.999990016595]</td>\n      <td>24.000000</td>\n      <td>female</td>\n    </tr>\n    <tr>\n      <th>222</th>\n      <td>1</td>\n      <td>1</td>\n      <td>[0.294657834278, 0.705342165722]</td>\n      <td>6.000000</td>\n      <td>female</td>\n    </tr>\n    <tr>\n      <th>223</th>\n      <td>1</td>\n      <td>1</td>\n      <td>[0.452969928283, 0.547030071717]</td>\n      <td>29.699118</td>\n      <td>female</td>\n    </tr>\n    <tr>\n      <th>224</th>\n      <td>1</td>\n      <td>1</td>\n      <td>[0.0313789886073, 0.968621011393]</td>\n      <td>3.000000</td>\n      <td>female</td>\n    </tr>\n    <tr>\n      <th>225</th>\n      <td>1</td>\n      <td>1</td>\n      <td>[0.000735585573956, 0.999264414426]</td>\n      <td>34.000000</td>\n      <td>female</td>\n    </tr>\n    <tr>\n      <th>226</th>\n      <td>1</td>\n      <td>1</td>\n      <td>[5.47967174613e-06, 0.999994520328]</td>\n      <td>19.000000</td>\n      <td>female</td>\n    </tr>\n    <tr>\n      <th>227</th>\n      <td>1</td>\n      <td>1</td>\n      <td>[1.07475939238e-05, 0.999989252406]</td>\n      <td>24.000000</td>\n      <td>female</td>\n    </tr>\n    <tr>\n      <th>228</th>\n      <td>1</td>\n      <td>0</td>\n      <td>[0.975273675511, 0.024726324489]</td>\n      <td>24.000000</td>\n      <td>female</td>\n    </tr>\n    <tr>\n      <th>229</th>\n      <td>1</td>\n      <td>0</td>\n      <td>[0.977217623924, 0.022782376076]</td>\n      <td>30.000000</td>\n      <td>female</td>\n    </tr>\n    <tr>\n      <th>230</th>\n      <td>1</td>\n      <td>0</td>\n      <td>[0.556826228034, 0.443173771966]</td>\n      <td>34.000000</td>\n      <td>female</td>\n    </tr>\n    <tr>\n      <th>231</th>\n      <td>1</td>\n      <td>1</td>\n      <td>[0.456764349976, 0.543235650024]</td>\n      <td>29.000000</td>\n      <td>female</td>\n    </tr>\n    <tr>\n      <th>232</th>\n      <td>1</td>\n      <td>0</td>\n      <td>[0.541395684613, 0.458604315387]</td>\n      <td>32.000000</td>\n      <td>female</td>\n    </tr>\n    <tr>\n      <th>233</th>\n      <td>1</td>\n      <td>1</td>\n      <td>[0.334975270387, 0.665024729613]</td>\n      <td>23.000000</td>\n      <td>female</td>\n    </tr>\n  </tbody>\n</table>\n<p>234 rows \u00d7 5 columns</p>\n</div>", 
                        "text/plain": "     label  prediction                          probability        Age     Sex\n0        0           0  [0.999981670013, 1.83299867073e-05]  29.699118    male\n1        0           1     [0.229418030563, 0.770581969437]  29.699118    male\n2        0           0  [0.999975785539, 2.42144611247e-05]   1.000000    male\n3        0           0  [0.999976528511, 2.34714889607e-05]   2.000000    male\n4        0           0   [0.99999775835, 2.24164952953e-06]  40.000000    male\n5        0           0  [0.999978494472, 2.15055277639e-05]  11.000000    male\n6        0           0   [0.999980413923, 1.9586077438e-05]  14.000000    male\n7        0           0  [0.999980710159, 1.92898414733e-05]   4.000000    male\n8        0           0     [0.725264179845, 0.274735820155]  36.000000    male\n9        0           0     [0.798325613086, 0.201674386914]  49.000000    male\n10       0           0  [0.999998277013, 1.72298658947e-06]  36.000000    male\n11       0           0   [0.999040192165, 0.00095980783488]  29.699118    male\n12       0           0  [0.999997818676, 2.18132361352e-06]  18.000000    male\n13       0           1     [0.135997907469, 0.864002092531]  27.000000    male\n14       0           1    [0.0927872358154, 0.907212764185]  28.000000    male\n15       0           0   [0.998450316214, 0.00154968378592]  29.699118    male\n16       0           0  [0.999036335547, 0.000963664453408]  28.000000    male\n17       0           0   [0.998933533068, 0.00106646693158]  21.000000    male\n18       0           0   [0.998974045287, 0.00102595471273]  22.000000    male\n19       0           0   [0.998975494169, 0.00102450583108]  22.000000    male\n20       0           0    [0.99860083746, 0.00139916253953]  29.699118    male\n21       0           0  [0.999395488686, 0.000604511314336]  39.000000    male\n22       0           0  [0.999192728507, 0.000807271492886]  29.699118    male\n23       0           0  [0.999443643732, 0.000556356267991]  42.000000    male\n24       0           0  [0.999797254957, 0.000202745042785]  74.000000    male\n25       0           0  [0.999174213934, 0.000825786065909]  29.699118    male\n26       0           0  [0.999175204261, 0.000824795738628]  29.000000    male\n27       0           0   [0.99920232256, 0.000797677439543]  29.699118    male\n28       0           0         [0.9988142436, 0.0011857564]  17.000000    male\n29       0           0  [0.999190967004, 0.000809032995581]  29.699118    male\n..     ...         ...                                  ...        ...     ...\n204      1           1  [3.77660922293e-05, 0.999962233908]  21.000000  female\n205      1           1    [0.0129622966769, 0.987037703323]  29.699118  female\n206      1           1     [0.032648963167, 0.967351036833]  58.000000  female\n207      1           0    [0.965624244831, 0.0343757551694]  22.000000  female\n208      1           1  [0.000320181725622, 0.999679818274]  29.699118  female\n209      1           1  [0.000221024077351, 0.999778975923]  24.000000  female\n210      1           0    [0.974852521711, 0.0251474782894]  26.000000  female\n211      1           0    [0.981267142228, 0.0187328577723]  33.000000  female\n212      1           1     [0.192420325622, 0.807579674378]  48.000000  female\n213      1           1    [0.0847023442739, 0.915297655726]  60.000000  female\n214      1           1    [0.0712391167492, 0.928760883251]  16.000000  female\n215      1           1     [0.104854419791, 0.895145580209]  44.000000  female\n216      1           1    [0.0469938313685, 0.953006168631]  38.000000  female\n217      1           1    [0.0434360911558, 0.956563908844]  39.000000  female\n218      1           1   [0.00112839777253, 0.998871602227]   0.830000    male\n219      1           0  [0.999844046529, 0.000155953470962]   8.000000    male\n220      1           0   [0.996750285367, 0.00324971463312]  34.000000    male\n221      1           1  [9.98340549762e-06, 0.999990016595]  24.000000  female\n222      1           1     [0.294657834278, 0.705342165722]   6.000000  female\n223      1           1     [0.452969928283, 0.547030071717]  29.699118  female\n224      1           1    [0.0313789886073, 0.968621011393]   3.000000  female\n225      1           1  [0.000735585573956, 0.999264414426]  34.000000  female\n226      1           1  [5.47967174613e-06, 0.999994520328]  19.000000  female\n227      1           1  [1.07475939238e-05, 0.999989252406]  24.000000  female\n228      1           0     [0.975273675511, 0.024726324489]  24.000000  female\n229      1           0     [0.977217623924, 0.022782376076]  30.000000  female\n230      1           0     [0.556826228034, 0.443173771966]  34.000000  female\n231      1           1     [0.456764349976, 0.543235650024]  29.000000  female\n232      1           0     [0.541395684613, 0.458604315387]  32.000000  female\n233      1           1     [0.334975270387, 0.665024729613]  23.000000  female\n\n[234 rows x 5 columns]"
                    }
                }
            ], 
            "execution_count": 25, 
            "source": "from pyspark.ml.classification import LogisticRegression\n\n# Create initial LogisticRegression model\nlr = LogisticRegression(labelCol=\"label\", featuresCol=\"features\", maxIter=10)\n\n# Train model with Training Data\nlrModel = lr.fit(trainingData)\n\n# Make predictions on test data using the transform() method.\n# LogisticRegression.transform() will only use the 'features' column.\npredictions = lrModel.transform(testData)\npredictions.printSchema()\n\n# View model's predictions and probabilities of each prediction class\n# You can select any columns in the above schema to view as well. For example's sake we will choose age & sex\nselected = predictions.select(\"label\", \"prediction\", \"probability\",\"Age\", \"Sex\")\nselected.toPandas()"
        }, 
        {
            "metadata": {}, 
            "cell_type": "code", 
            "outputs": [
                {
                    "metadata": {}, 
                    "output_type": "execute_result", 
                    "execution_count": 26, 
                    "data": {
                        "text/plain": "0.8198279087167974"
                    }
                }
            ], 
            "execution_count": 26, 
            "source": "\n\nfrom pyspark.ml.evaluation import BinaryClassificationEvaluator\n# Evaluate model\nevaluator = BinaryClassificationEvaluator(rawPredictionCol=\"rawPrediction\")\n\n#evaluate the LogisticRegression Model predictions\nevaluator.evaluate(predictions)"
        }, 
        {
            "metadata": {
                "collapsed": true
            }, 
            "cell_type": "code", 
            "outputs": [], 
            "execution_count": 27, 
            "source": "from pyspark.ml.tuning import ParamGridBuilder, CrossValidator\n\n# Create ParamGrid for Cross Validation\nparamGrid = (ParamGridBuilder()\n             .addGrid(lr.regParam, [0.01, 0.5, 2.0])\n             .addGrid(lr.elasticNetParam, [0.0, 0.5, 1.0])\n             .addGrid(lr.maxIter, [1, 5, 10])\n             .build())\n\n# Create 5-fold CrossValidator\ncv = CrossValidator(estimator=lr, estimatorParamMaps=paramGrid, evaluator=evaluator, numFolds=5)\n\n# Run cross validations\ncvModel = cv.fit(trainingData)"
        }, 
        {
            "metadata": {}, 
            "cell_type": "code", 
            "outputs": [
                {
                    "metadata": {}, 
                    "output_type": "execute_result", 
                    "execution_count": 28, 
                    "data": {
                        "text/plain": "0.8539094650205764"
                    }
                }
            ], 
            "execution_count": 28, 
            "source": "predictions = cvModel.transform(testData)\n# cvModel uses the best model found from the Cross Validation\n# Evaluate best model\nevaluator.evaluate(predictions)"
        }, 
        {
            "metadata": {
                "collapsed": true
            }, 
            "cell_type": "code", 
            "outputs": [], 
            "execution_count": 66, 
            "source": "from pyspark.ml.classification import DecisionTreeClassifier\n\n# Create initial Decision Tree Model\ndt = DecisionTreeClassifier(labelCol=\"label\", featuresCol=\"features\", maxDepth=3)\n\n# Train model with Training Data\ndtModel = dt.fit(trainingData)"
        }, 
        {
            "metadata": {}, 
            "cell_type": "code", 
            "outputs": [
                {
                    "text": "+-----+----------+--------------------+-------------+----+\n|label|prediction|         probability|          Age| Sex|\n+-----+----------+--------------------+-------------+----+\n|  0.0|       0.0|[0.89329268292682...|29.6991176471|male|\n|  0.0|       0.0|[0.89329268292682...|29.6991176471|male|\n|  0.0|       0.0|         [0.75,0.25]|          1.0|male|\n|  0.0|       0.0|         [0.75,0.25]|          2.0|male|\n|  0.0|       0.0|[0.89329268292682...|         40.0|male|\n|  0.0|       0.0|[0.89329268292682...|         11.0|male|\n|  0.0|       0.0|[0.89329268292682...|         14.0|male|\n|  0.0|       0.0|[0.89329268292682...|          4.0|male|\n|  0.0|       0.0|[0.89329268292682...|         36.0|male|\n|  0.0|       0.0|[0.89329268292682...|         49.0|male|\n|  0.0|       0.0|[0.89329268292682...|         36.0|male|\n|  0.0|       0.0|[0.89329268292682...|29.6991176471|male|\n|  0.0|       0.0|[0.89329268292682...|         18.0|male|\n|  0.0|       0.0|[0.89329268292682...|         27.0|male|\n|  0.0|       0.0|[0.89329268292682...|         28.0|male|\n|  0.0|       0.0|[0.89329268292682...|29.6991176471|male|\n|  0.0|       0.0|[0.89329268292682...|         28.0|male|\n|  0.0|       0.0|[0.89329268292682...|         21.0|male|\n|  0.0|       0.0|[0.89329268292682...|         22.0|male|\n|  0.0|       0.0|[0.89329268292682...|         22.0|male|\n+-----+----------+--------------------+-------------+----+\nonly showing top 20 rows\n\n", 
                    "output_type": "stream", 
                    "name": "stdout"
                }
            ], 
            "execution_count": 67, 
            "source": "# Make predictions on test data using the Transformer.transform() method.\npredictions = dtModel.transform(testData)\nselected = predictions.select(\"label\", \"prediction\", \"probability\", \"Age\",\"Sex\")\nselected.show()"
        }, 
        {
            "metadata": {}, 
            "cell_type": "code", 
            "outputs": [
                {
                    "metadata": {}, 
                    "output_type": "execute_result", 
                    "execution_count": 68, 
                    "data": {
                        "text/plain": "0.793939393939394"
                    }
                }
            ], 
            "execution_count": 68, 
            "source": "#evaluate decision tree classifier model\n\nevaluator.evaluate(predictions)"
        }, 
        {
            "metadata": {
                "collapsed": true
            }, 
            "cell_type": "code", 
            "outputs": [], 
            "execution_count": 69, 
            "source": "# Create ParamGrid for Cross Validation\nfrom pyspark.ml.tuning import ParamGridBuilder, CrossValidator\n\nparamGrid = (ParamGridBuilder()\n             .addGrid(dt.maxDepth, [1,2,6,10])\n             .addGrid(dt.maxBins, [20,40,80])\n             .build())\n# Create 5-fold CrossValidator\ncv = CrossValidator(estimator=dt, estimatorParamMaps=paramGrid, evaluator=evaluator, numFolds=5)\n\n# Run cross validations\ncvModel = cv.fit(trainingData)\n"
        }, 
        {
            "metadata": {}, 
            "cell_type": "code", 
            "outputs": [
                {
                    "metadata": {}, 
                    "output_type": "execute_result", 
                    "execution_count": 70, 
                    "data": {
                        "text/plain": "0.8292929292929293"
                    }
                }
            ], 
            "execution_count": 70, 
            "source": "# Use test set here so we can measure the accuracy of our model on new data\npredictions = cvModel.transform(testData)\n# cvModel uses the best model found from the Cross Validation\n# Evaluate best model\nevaluator.evaluate(predictions)"
        }, 
        {
            "metadata": {
                "collapsed": true
            }, 
            "cell_type": "code", 
            "outputs": [], 
            "execution_count": 82, 
            "source": "from pyspark.ml.classification import RandomForestClassifier\n\n# Create an initial RandomForest model.\nrf = RandomForestClassifier(labelCol=\"label\", featuresCol=\"features\")\n\n# Train model with Training Data\nrfModel = rf.fit(trainingData)\n\n\npredictions = rfModel.transform(testData)"
        }, 
        {
            "metadata": {
                "collapsed": true
            }, 
            "cell_type": "code", 
            "outputs": [], 
            "execution_count": null, 
            "source": ""
        }, 
        {
            "metadata": {}, 
            "cell_type": "code", 
            "outputs": [
                {
                    "text": "+-----+----------+--------------------+-------------+----+\n|label|prediction|         probability|          Age| Sex|\n+-----+----------+--------------------+-------------+----+\n|  0.0|       0.0|[0.67911771158113...|29.6991176471|male|\n|  0.0|       0.0|[0.68688287439747...|29.6991176471|male|\n|  0.0|       0.0|[0.61827801566730...|          1.0|male|\n|  0.0|       0.0|[0.61827801566730...|          2.0|male|\n|  0.0|       0.0|[0.67244257151202...|         40.0|male|\n|  0.0|       0.0|[0.67568409193471...|         11.0|male|\n|  0.0|       0.0|[0.67568409193471...|         14.0|male|\n|  0.0|       0.0|[0.72489366119374...|          4.0|male|\n|  0.0|       0.0|[0.74937366144782...|         36.0|male|\n|  0.0|       0.0|[0.73827457534874...|         49.0|male|\n|  0.0|       0.0|[0.67244257151202...|         36.0|male|\n|  0.0|       0.0|[0.67244257151202...|29.6991176471|male|\n|  0.0|       0.0|[0.67244257151202...|         18.0|male|\n|  0.0|       0.0|[0.67142542712931...|         27.0|male|\n|  0.0|       0.0|[0.71222416573042...|         28.0|male|\n|  0.0|       0.0|[0.70984261683115...|29.6991176471|male|\n|  0.0|       0.0|[0.74010543006317...|         28.0|male|\n|  0.0|       0.0|[0.74937366144782...|         21.0|male|\n|  0.0|       0.0|[0.74937366144782...|         22.0|male|\n|  0.0|       0.0|[0.74937366144782...|         22.0|male|\n+-----+----------+--------------------+-------------+----+\nonly showing top 20 rows\n\n", 
                    "output_type": "stream", 
                    "name": "stdout"
                }
            ], 
            "execution_count": 83, 
            "source": "\n# View model's predictions and probabilities of each prediction class\nselected = predictions.select(\"label\", \"prediction\", \"probability\", \"Age\",\"Sex\")\nselected.show()"
        }, 
        {
            "metadata": {}, 
            "cell_type": "code", 
            "outputs": [
                {
                    "metadata": {}, 
                    "output_type": "execute_result", 
                    "execution_count": 84, 
                    "data": {
                        "text/plain": "0.6730639730639731"
                    }
                }
            ], 
            "execution_count": 84, 
            "source": "evaluator.evaluate(predictions)\n"
        }, 
        {
            "metadata": {
                "collapsed": true
            }, 
            "cell_type": "code", 
            "outputs": [], 
            "execution_count": 85, 
            "source": "# Create ParamGrid for Cross Validation\nfrom pyspark.ml.tuning import ParamGridBuilder, CrossValidator\n\nparamGrid = (ParamGridBuilder()\n             .addGrid(rf.maxDepth, [2, 4, 6])\n             .addGrid(rf.maxBins, [20, 60])\n             .addGrid(rf.numTrees, [5, 20])\n             .build())\n# Create 5-fold CrossValidator\ncv = CrossValidator(estimator=rf, estimatorParamMaps=paramGrid, evaluator=evaluator, numFolds=5)\n\n# Run cross validations.  This can take about 6 minutes since it is training over 20 trees!\ncvModel = cv.fit(trainingData)"
        }, 
        {
            "metadata": {
                "collapsed": true
            }, 
            "cell_type": "code", 
            "outputs": [], 
            "execution_count": 87, 
            "source": "# Use test set here so we can measure the accuracy of our model on new data\npredictions = cvModel.transform(testData)"
        }, 
        {
            "metadata": {}, 
            "cell_type": "code", 
            "outputs": [
                {
                    "metadata": {}, 
                    "output_type": "execute_result", 
                    "execution_count": 88, 
                    "data": {
                        "text/plain": "0.694949494949495"
                    }
                }
            ], 
            "execution_count": 88, 
            "source": "# cvModel uses the best model found from the Cross Validation\n# Evaluate best model\nevaluator.evaluate(predictions)"
        }, 
        {
            "metadata": {}, 
            "cell_type": "code", 
            "outputs": [], 
            "execution_count": 98, 
            "source": "from pyspark.ml.classification import MultilayerPerceptronClassifier\n\nfeatures_size = trainingData.select(\"features\").first()[0].size\nlayers = [features_size, 10, 2]\n# create the trainer and set its parameters\ntrainer = MultilayerPerceptronClassifier(maxIter=100, layers=layers, blockSize=128, seed=1234)\n\n# train the model\nmodel = trainer.fit(trainingData)\n"
        }, 
        {
            "metadata": {}, 
            "cell_type": "code", 
            "outputs": [
                {
                    "text": "+-----+----------+-------------+----+\n|label|prediction|          Age| Sex|\n+-----+----------+-------------+----+\n|  0.0|       0.0|          4.0|male|\n|  0.0|       0.0|         39.0|male|\n|  0.0|       0.0|29.6991176471|male|\n|  0.0|       0.0|29.6991176471|male|\n|  0.0|       0.0|29.6991176471|male|\n|  0.0|       0.0|         28.0|male|\n|  0.0|       0.0|          7.0|male|\n|  0.0|       0.0|         14.0|male|\n|  0.0|       0.0|         16.0|male|\n|  0.0|       0.0|          4.0|male|\n|  0.0|       0.0|         10.0|male|\n|  0.0|       0.0|          1.0|male|\n|  0.0|       0.0|          9.0|male|\n|  0.0|       0.0|          2.0|male|\n|  0.0|       0.0|          7.0|male|\n|  0.0|       0.0|          8.0|male|\n|  0.0|       0.0|         19.0|male|\n|  0.0|       0.0|          2.0|male|\n|  0.0|       0.0|         16.0|male|\n|  0.0|       0.0|          9.0|male|\n+-----+----------+-------------+----+\nonly showing top 20 rows\n\n", 
                    "output_type": "stream", 
                    "name": "stdout"
                }
            ], 
            "execution_count": 99, 
            "source": "predictions = model.transform(trainingData)\nselected = predictions.select(\"label\", \"prediction\", \"Age\",\"Sex\")\nselected.show()"
        }, 
        {
            "metadata": {}, 
            "cell_type": "code", 
            "outputs": [
                {
                    "metadata": {}, 
                    "output_type": "execute_result", 
                    "execution_count": 100, 
                    "data": {
                        "text/plain": "0.7841295401681875"
                    }
                }
            ], 
            "execution_count": 100, 
            "source": "evaluator = BinaryClassificationEvaluator(rawPredictionCol=\"prediction\")\nevaluator.evaluate(predictions)\n"
        }, 
        {
            "metadata": {
                "collapsed": true
            }, 
            "cell_type": "code", 
            "outputs": [], 
            "execution_count": null, 
            "source": ""
        }
    ], 
    "nbformat_minor": 1, 
    "nbformat": 4
}